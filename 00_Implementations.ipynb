{
 "cells": [
  {
   "cell_type": "markdown",
   "metadata": {},
   "source": [
    "## IMPLEMENTATIONS"
   ]
  },
  {
   "cell_type": "markdown",
   "metadata": {},
   "source": [
    "This notebook is used to implement and present the solutions to the problem presented during the MICO (Machine Intelligence for Combinatorial Optimizations) course:\n",
    "- Knaspack problem\n",
    "- TSP - Travelling Salesman Problem"
   ]
  },
  {
   "cell_type": "markdown",
   "metadata": {},
   "source": [
    "IMPORTED LIBRARIES"
   ]
  },
  {
   "cell_type": "code",
   "execution_count": 1,
   "metadata": {},
   "outputs": [],
   "source": [
    "import pandas as pd\n",
    "import Knapsack_problem"
   ]
  },
  {
   "cell_type": "markdown",
   "metadata": {},
   "source": [
    "## KNAPSACK PROBLEM"
   ]
  },
  {
   "cell_type": "markdown",
   "metadata": {},
   "source": [
    "READING FILE"
   ]
  },
  {
   "cell_type": "code",
   "execution_count": 3,
   "metadata": {},
   "outputs": [
    {
     "name": "stdout",
     "output_type": "stream",
     "text": [
      "The maximum weight of the knapsack is (kg) 5000\n"
     ]
    },
    {
     "data": {
      "text/html": [
       "<div>\n",
       "<style scoped>\n",
       "    .dataframe tbody tr th:only-of-type {\n",
       "        vertical-align: middle;\n",
       "    }\n",
       "\n",
       "    .dataframe tbody tr th {\n",
       "        vertical-align: top;\n",
       "    }\n",
       "\n",
       "    .dataframe thead th {\n",
       "        text-align: right;\n",
       "    }\n",
       "</style>\n",
       "<table border=\"1\" class=\"dataframe\">\n",
       "  <thead>\n",
       "    <tr style=\"text-align: right;\">\n",
       "      <th></th>\n",
       "      <th>Weight</th>\n",
       "      <th>Value</th>\n",
       "    </tr>\n",
       "  </thead>\n",
       "  <tbody>\n",
       "    <tr>\n",
       "      <th>0</th>\n",
       "      <td>897</td>\n",
       "      <td>13</td>\n",
       "    </tr>\n",
       "    <tr>\n",
       "      <th>1</th>\n",
       "      <td>734</td>\n",
       "      <td>11</td>\n",
       "    </tr>\n",
       "    <tr>\n",
       "      <th>2</th>\n",
       "      <td>754</td>\n",
       "      <td>13</td>\n",
       "    </tr>\n",
       "    <tr>\n",
       "      <th>3</th>\n",
       "      <td>975</td>\n",
       "      <td>60</td>\n",
       "    </tr>\n",
       "    <tr>\n",
       "      <th>4</th>\n",
       "      <td>363</td>\n",
       "      <td>85</td>\n",
       "    </tr>\n",
       "    <tr>\n",
       "      <th>...</th>\n",
       "      <td>...</td>\n",
       "      <td>...</td>\n",
       "    </tr>\n",
       "    <tr>\n",
       "      <th>9995</th>\n",
       "      <td>721</td>\n",
       "      <td>79</td>\n",
       "    </tr>\n",
       "    <tr>\n",
       "      <th>9996</th>\n",
       "      <td>977</td>\n",
       "      <td>85</td>\n",
       "    </tr>\n",
       "    <tr>\n",
       "      <th>9997</th>\n",
       "      <td>414</td>\n",
       "      <td>43</td>\n",
       "    </tr>\n",
       "    <tr>\n",
       "      <th>9998</th>\n",
       "      <td>241</td>\n",
       "      <td>98</td>\n",
       "    </tr>\n",
       "    <tr>\n",
       "      <th>9999</th>\n",
       "      <td>373</td>\n",
       "      <td>37</td>\n",
       "    </tr>\n",
       "  </tbody>\n",
       "</table>\n",
       "<p>10000 rows × 2 columns</p>\n",
       "</div>"
      ],
      "text/plain": [
       "      Weight  Value\n",
       "0        897     13\n",
       "1        734     11\n",
       "2        754     13\n",
       "3        975     60\n",
       "4        363     85\n",
       "...      ...    ...\n",
       "9995     721     79\n",
       "9996     977     85\n",
       "9997     414     43\n",
       "9998     241     98\n",
       "9999     373     37\n",
       "\n",
       "[10000 rows x 2 columns]"
      ]
     },
     "execution_count": 3,
     "metadata": {},
     "output_type": "execute_result"
    }
   ],
   "source": [
    "dataset_zaino = open(r\"C:\\Users\\palaz\\OneDrive\\Desktop\\University\\UNIPA 2.0\\II ANNO\\Semestre 1\\MICO - Machine Intelligence for Combinatorial Optimisation\\MICO_coding\\Data\\Knapsack\\datasetZaino.txt\")\n",
    "lines = dataset_zaino.readlines()\n",
    "maximum_weight = int(lines[1].split(\"=\")[1])\n",
    "print(f\"The maximum weight of the knapsack is (kg) {maximum_weight}\")\n",
    "\n",
    "rows = [row.split(\"\\n\")[0] for row in lines][5:] # Using split to remove the last two characters from the line\n",
    "rows = [el.split(\",\") for el in rows]\n",
    "\n",
    "# List of objects to insert into the pack of the form of couples: (weight, value)\n",
    "objects = [ ( int(el[0].split(\"=\")[1]) , int(el[1].split(\"=\")[1]) ) for el in rows ]\n",
    "\n",
    "# Create a dataframe to visualize the objects obtained\n",
    "obj_df = pd.DataFrame( objects, columns=[\"Weight\", \"Value\"])\n",
    "obj_df"
   ]
  },
  {
   "cell_type": "code",
   "execution_count": 5,
   "metadata": {},
   "outputs": [
    {
     "name": "stdout",
     "output_type": "stream",
     "text": [
      "The maximum value contained is 2327\n",
      "-------\n",
      "The objects to put into the sack are the following:\n",
      "(225, 100)\n",
      "(220, 98)\n",
      "(220, 99)\n",
      "(217, 94)\n",
      "(216, 96)\n",
      "(216, 99)\n",
      "(215, 96)\n",
      "(215, 96)\n",
      "(214, 95)\n",
      "(213, 95)\n",
      "(212, 89)\n"
     ]
    }
   ],
   "source": [
    "# Applying a function to obtain the maximum value contained in the Knapsack\n",
    "K, table = Knapsack_problem.find_max_value( objects, maximum_weight )\n",
    "\n",
    "print(f\"The maximum value contained is {K}\")\n",
    "\n",
    "print(\"-------\")\n",
    "\n",
    "# Searching the objects to put into the sack\n",
    "chosen_obj = Knapsack_problem.find_objects( table, maximum_weight, objects, K )\n",
    "print(\"The objects to put into the sack are the following:\")\n",
    "for el in chosen_obj:\n",
    "    print(el)"
   ]
  },
  {
   "cell_type": "markdown",
   "metadata": {},
   "source": [
    "# TRAVELLING SALESMAN PROBLEM -TSP"
   ]
  },
  {
   "cell_type": "markdown",
   "metadata": {},
   "source": [
    "# GENETIC ALGORITHMS"
   ]
  },
  {
   "cell_type": "markdown",
   "metadata": {},
   "source": [
    "### Exercise from L12"
   ]
  },
  {
   "cell_type": "markdown",
   "metadata": {},
   "source": [
    "Find the max of the function f(x)= 1.0 + x * sin( 10* pi * x ), x in [-1,2], with a precision of 3 decimal places."
   ]
  },
  {
   "cell_type": "code",
   "execution_count": null,
   "metadata": {},
   "outputs": [],
   "source": []
  }
 ],
 "metadata": {
  "kernelspec": {
   "display_name": "Python 3",
   "language": "python",
   "name": "python3"
  },
  "language_info": {
   "codemirror_mode": {
    "name": "ipython",
    "version": 3
   },
   "file_extension": ".py",
   "mimetype": "text/x-python",
   "name": "python",
   "nbconvert_exporter": "python",
   "pygments_lexer": "ipython3",
   "version": "3.11.5"
  },
  "orig_nbformat": 4
 },
 "nbformat": 4,
 "nbformat_minor": 2
}
